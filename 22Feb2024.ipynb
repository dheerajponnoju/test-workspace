{
 "cells": [
  {
   "cell_type": "code",
   "execution_count": 1,
   "id": "055a2aca-4b84-4b5f-9eb0-39973f78d3e5",
   "metadata": {},
   "outputs": [
    {
     "name": "stdout",
     "output_type": "stream",
     "text": [
      "Requirement already satisfied: findspark in /opt/conda/lib/python3.11/site-packages (2.0.1)\n"
     ]
    }
   ],
   "source": [
    "!pip install findspark"
   ]
  },
  {
   "cell_type": "code",
   "execution_count": 2,
   "id": "75b89406-92cc-452d-8110-a8b24118a0b4",
   "metadata": {},
   "outputs": [],
   "source": [
    "import findspark"
   ]
  },
  {
   "cell_type": "code",
   "execution_count": 3,
   "id": "1b0950af-5cb0-4ef3-817a-6dc9a2b6b74d",
   "metadata": {},
   "outputs": [],
   "source": [
    "findspark.init()"
   ]
  },
  {
   "cell_type": "code",
   "execution_count": 4,
   "id": "3655ca2a-f81f-4715-bc89-e8e2e4c03545",
   "metadata": {},
   "outputs": [],
   "source": [
    "import pyspark"
   ]
  },
  {
   "cell_type": "code",
   "execution_count": 5,
   "id": "91e5bce5-c771-41ff-be44-bc200df38dcb",
   "metadata": {},
   "outputs": [],
   "source": [
    "from pyspark.sql import SparkSession"
   ]
  },
  {
   "cell_type": "code",
   "execution_count": 6,
   "id": "e3bade71-8344-45b0-884b-05f2e4c68563",
   "metadata": {},
   "outputs": [],
   "source": [
    "spark = SparkSession.builder.master(\"local\").getOrCreate()"
   ]
  },
  {
   "cell_type": "code",
   "execution_count": 7,
   "id": "64f1f5a8-9156-4500-afd6-241a843044e8",
   "metadata": {},
   "outputs": [],
   "source": [
    "data = [\n",
    "    {\"N1\":2},\n",
    "    {\"N1\":3},\n",
    "    {\"N1\":4},\n",
    "    {\"N1\":5}\n",
    "]"
   ]
  },
  {
   "cell_type": "code",
   "execution_count": 9,
   "id": "87bad7a1-0df2-4d76-9685-8cee8fbf4f6e",
   "metadata": {},
   "outputs": [],
   "source": [
    "tbls = spark.createDataFrame(data)"
   ]
  },
  {
   "cell_type": "code",
   "execution_count": 10,
   "id": "f8497242-e150-46fa-916a-595390257338",
   "metadata": {},
   "outputs": [],
   "source": [
    "data2 = [\n",
    "    {\"N2\":1},\n",
    "    {\"N2\":2},\n",
    "    {\"N2\":3},\n",
    "    {\"N2\":4},\n",
    "    {\"N2\":5},\n",
    "    {\"N2\":6},\n",
    "    {\"N2\":7},\n",
    "    {\"N2\":8},\n",
    "    {\"N2\":9},\n",
    "    {\"N2\":10},\n",
    "]"
   ]
  },
  {
   "cell_type": "code",
   "execution_count": 13,
   "id": "6f8b6ff7-fc0e-4dc4-b51c-aadc432181c7",
   "metadata": {},
   "outputs": [],
   "source": [
    "els = spark.createDataFrame(data2)"
   ]
  },
  {
   "cell_type": "code",
   "execution_count": 19,
   "id": "0e923620-1551-4537-bc5b-c048aeb98145",
   "metadata": {},
   "outputs": [],
   "source": [
    "from pyspark.sql.functions import concat, col, lit"
   ]
  },
  {
   "cell_type": "code",
   "execution_count": 37,
   "id": "3bbdff47-a0ce-47ef-8648-15b2b5bf3fc5",
   "metadata": {},
   "outputs": [
    {
     "name": "stdout",
     "output_type": "stream",
     "text": [
      "+---------+\n",
      "|   Tables|\n",
      "+---------+\n",
      "|  2X1 = 2|\n",
      "|  2X2 = 4|\n",
      "|  2X3 = 6|\n",
      "|  2X4 = 8|\n",
      "| 2X5 = 10|\n",
      "| 2X6 = 12|\n",
      "| 2X7 = 14|\n",
      "| 2X8 = 16|\n",
      "| 2X9 = 18|\n",
      "|2X10 = 20|\n",
      "|  3X1 = 3|\n",
      "|  3X2 = 6|\n",
      "|  3X3 = 9|\n",
      "| 3X4 = 12|\n",
      "| 3X5 = 15|\n",
      "| 3X6 = 18|\n",
      "| 3X7 = 21|\n",
      "| 3X8 = 24|\n",
      "| 3X9 = 27|\n",
      "|3X10 = 30|\n",
      "|  4X1 = 4|\n",
      "|  4X2 = 8|\n",
      "| 4X3 = 12|\n",
      "| 4X4 = 16|\n",
      "| 4X5 = 20|\n",
      "| 4X6 = 24|\n",
      "| 4X7 = 28|\n",
      "| 4X8 = 32|\n",
      "| 4X9 = 36|\n",
      "|4X10 = 40|\n",
      "+---------+\n",
      "only showing top 30 rows\n",
      "\n"
     ]
    }
   ],
   "source": [
    "tbls.crossJoin(els).select(concat(\"N1\", lit('X'), \"N2\", lit(' = '), col(\"N1\")*col(\"N2\")).alias(\"Tables\")).show(n=30)"
   ]
  },
  {
   "cell_type": "code",
   "execution_count": 30,
   "id": "d32d19db-fc7c-459d-99c1-817150a01a09",
   "metadata": {},
   "outputs": [],
   "source": [
    "tbls.createOrReplaceTempView(\"t1\")"
   ]
  },
  {
   "cell_type": "code",
   "execution_count": 31,
   "id": "e764fa38-2447-42b4-9a4a-daf540fcb2bc",
   "metadata": {},
   "outputs": [],
   "source": [
    "els.createOrReplaceTempView(\"e1\")"
   ]
  },
  {
   "cell_type": "code",
   "execution_count": 34,
   "id": "2d6fa01d-98ad-404f-9873-147820b80d81",
   "metadata": {},
   "outputs": [
    {
     "name": "stdout",
     "output_type": "stream",
     "text": [
      "+---------+\n",
      "|   tables|\n",
      "+---------+\n",
      "|  2X1 = 2|\n",
      "|  2X2 = 4|\n",
      "|  2X3 = 6|\n",
      "|  2X4 = 8|\n",
      "| 2X5 = 10|\n",
      "| 2X6 = 12|\n",
      "| 2X7 = 14|\n",
      "| 2X8 = 16|\n",
      "| 2X9 = 18|\n",
      "|2X10 = 20|\n",
      "|  3X1 = 3|\n",
      "|  3X2 = 6|\n",
      "|  3X3 = 9|\n",
      "| 3X4 = 12|\n",
      "| 3X5 = 15|\n",
      "| 3X6 = 18|\n",
      "| 3X7 = 21|\n",
      "| 3X8 = 24|\n",
      "| 3X9 = 27|\n",
      "|3X10 = 30|\n",
      "+---------+\n",
      "only showing top 20 rows\n",
      "\n"
     ]
    }
   ],
   "source": [
    "spark.sql(\n",
    "    '''select concat(t1.N1,'X',e1.N2,' = ',t1.N1*e1.N2) tables from t1,e1'''\n",
    ").show()"
   ]
  },
  {
   "cell_type": "code",
   "execution_count": 38,
   "id": "421d3a18-a9cb-4f8a-973e-ed5f77413522",
   "metadata": {},
   "outputs": [
    {
     "name": "stdout",
     "output_type": "stream",
     "text": [
      "+---------+\n",
      "|   Tables|\n",
      "+---------+\n",
      "|  2X1 = 2|\n",
      "|  2X2 = 4|\n",
      "|  2X3 = 6|\n",
      "|  2X4 = 8|\n",
      "| 2X5 = 10|\n",
      "| 2X6 = 12|\n",
      "| 2X7 = 14|\n",
      "| 2X8 = 16|\n",
      "| 2X9 = 18|\n",
      "|2X10 = 20|\n",
      "|  3X1 = 3|\n",
      "|  3X2 = 6|\n",
      "|  3X3 = 9|\n",
      "| 3X4 = 12|\n",
      "| 3X5 = 15|\n",
      "| 3X6 = 18|\n",
      "| 3X7 = 21|\n",
      "| 3X8 = 24|\n",
      "| 3X9 = 27|\n",
      "|3X10 = 30|\n",
      "+---------+\n",
      "only showing top 20 rows\n",
      "\n"
     ]
    }
   ],
   "source": [
    "tbls.join(els).select(concat(\"N1\", lit('X'), \"N2\", lit(' = '), col(\"N1\")*col(\"N2\")).alias(\"Tables\")).show()"
   ]
  }
 ],
 "metadata": {
  "kernelspec": {
   "display_name": "Python 3 (ipykernel)",
   "language": "python",
   "name": "python3"
  },
  "language_info": {
   "codemirror_mode": {
    "name": "ipython",
    "version": 3
   },
   "file_extension": ".py",
   "mimetype": "text/x-python",
   "name": "python",
   "nbconvert_exporter": "python",
   "pygments_lexer": "ipython3",
   "version": "3.11.6"
  }
 },
 "nbformat": 4,
 "nbformat_minor": 5
}
